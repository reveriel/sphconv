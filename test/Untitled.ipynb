{
 "cells": [
  {
   "cell_type": "code",
   "execution_count": 10,
   "metadata": {},
   "outputs": [],
   "source": [
    "\n",
    "from typing import List\n",
    "\n",
    "import spconv\n",
    "import sphconv\n",
    "import torch\n",
    "from sphconv.datagen import VoxelizationVFE, merge_batch_torch\n",
    "from sphconv.utils import out_spatial\n",
    "\n",
    "\n",
    "def batch_real_test_inputs(\n",
    "    channel: int,\n",
    "    batch_size: int,\n",
    "    spatial_shape_DWH: List[int]\n",
    "):\n",
    "    TEST_FILE_MAX = 4\n",
    "    vvfe = VoxelizationVFE(resolution_HWD=spatial_shape_DWH[::-1])\n",
    "\n",
    "    example_list = []\n",
    "    for i in range(batch_size):\n",
    "        voxels, coords = vvfe.generate(\n",
    "            '{:06d}.bin'.format(i %  TEST_FILE_MAX),  torch.device('cuda:0'))\n",
    "        example_list.append({'voxels': voxels, 'coordinates': coords})\n",
    "    example = merge_batch_torch(example_list)\n",
    "\n",
    "    feature, indices = example['voxels'], example['coordinates']\n",
    "    # feature, [NNZ, 4]\n",
    "    # original channel is 4, we extend it if needed\n",
    "    assert channel >= 4;\n",
    "    if channel > 4:\n",
    "        feature = feature.repeat((1, (channel + 3) //4))\n",
    "        feature = feature[:, :channel]\n",
    "    return feature, indices\n",
    "\n",
    "\n",
    "def batch_artifical_inputs(\n",
    "    indices_zyx: torch.Tensor,\n",
    "    channel: int,\n",
    "    batch_size: int\n",
    "):\n",
    "    \"\"\"\n",
    "    create batched inputs from indices_zyx\n",
    "    \"\"\"\n",
    "    features = torch.randn(\n",
    "        (indices_zyx.shape[0], channel), dtype=torch.float, device=indices_zyx.device)\n",
    "\n",
    "    one_example = {'voxel': features, 'coordinates': indices_zyx}\n",
    "    example = merge_batch_torch([one_example] * batch_size)\n",
    "\n",
    "    return example['voxel'], example['coordinates']\n",
    "\n",
    "\n",
    "def assert_correct_cmp_with_spconv(\n",
    "    indices_zyx: torch.Tensor, # [NNZ, 3]\n",
    "    batch_size: int,\n",
    "    in_channels: int, out_channels: int,\n",
    "    spatial_shape_DWH: List[int],\n",
    "    kernel_size: List[int],\n",
    "    stride: List[int],\n",
    "    padding: List[int],\n",
    "    dilation: List[int] = [1, 1, 1],\n",
    "    subm: bool = False\n",
    "):\n",
    "    if subm:\n",
    "        assert dilation == stride == dilation == [1, 1, 1]\n",
    "\n",
    "    feature, indices = batch_artifical_inputs(\n",
    "        indices_zyx, channel=in_channels, batch_size=batch_size)\n",
    "\n",
    "    sphconv_tensor = sphconv.SparseConvTensor(\n",
    "        feature, spatial_shape_DWH, batch_size, indices=indices)\n",
    "\n",
    "    spconv_tensor = spconv.SparseConvTensor(\n",
    "        feature, indices, spatial_shape_DWH, batch_size)\n",
    "\n",
    "    sph_conv = sphconv.Conv3d(\n",
    "        in_channels, out_channels, kernel_size, stride=stride, padding=padding, dilation=dilation, bias=False, subm=subm).cuda()\n",
    "\n",
    "    Spconv_Conv3d = spconv.SubMConv3d if subm else spconv.SparseConv3d\n",
    "    sp_conv = Spconv_Conv3d(\n",
    "        in_channels, out_channels, kernel_size, stride=stride, padding=padding, dilation=dilation, bias=False).cuda()\n",
    "\n",
    "    # same weight\n",
    "    weight = torch.randn((*kernel_size, in_channels, out_channels),\n",
    "                         dtype=torch.float, device=indices.device)\n",
    "\n",
    "    sph_conv.weight = torch.nn.Parameter(weight.clone())\n",
    "    sp_conv.weight = torch.nn.Parameter(weight.clone())\n",
    "\n",
    "    with torch.no_grad():\n",
    "        spconv_dense = sp_conv(spconv_tensor).dense()\n",
    "        sphconv_dense = sph_conv(sphconv_tensor).dense()\n",
    "\n",
    "    print(\"sphconv = \", sphconv_dense)\n",
    "    print(\"spconv = \", spconv_dense)\n",
    "\n",
    "    assert torch.isclose(spconv_dense, sphconv_dense, rtol=0.01).all()\n",
    "\n",
    "\n",
    "\n",
    "def assert_correct_cmp_with_spconv_real(\n",
    "    batch_size: int,\n",
    "    in_channels: int, out_channels: int,\n",
    "    spatial_shape_DWH: List[int],\n",
    "    kernel_size: List[int],\n",
    "    stride: List[int],\n",
    "    padding: List[int],\n",
    "    dilation: List[int] = [1, 1, 1],\n",
    "    subm: bool = False\n",
    "):\n",
    "    batch_size = 1 # TODO\n",
    "    if subm:\n",
    "        assert dilation == stride == dilation == [1, 1, 1]\n",
    "\n",
    "    feature, indices = batch_real_test_inputs(\n",
    "        channel=in_channels, batch_size=batch_size, spatial_shape_DWH=spatial_shape_DWH)\n",
    "\n",
    "    sphconv_tensor = sphconv.SparseConvTensor(\n",
    "        feature, spatial_shape_DWH, batch_size, indices=indices)\n",
    "\n",
    "    spconv_tensor = spconv.SparseConvTensor(\n",
    "        feature, indices, spatial_shape_DWH, batch_size)\n",
    "\n",
    "    sph_conv = sphconv.Conv3d(\n",
    "        in_channels, out_channels, kernel_size, stride=stride, padding=padding, dilation=dilation, bias=False, subm=subm).cuda()\n",
    "\n",
    "    Spconv_Conv3d = spconv.SubMConv3d if subm else spconv.SparseConv3d\n",
    "    sp_conv = Spconv_Conv3d(\n",
    "        in_channels, out_channels, kernel_size, stride=stride, padding=padding, dilation=dilation, bias=False).cuda()\n",
    "\n",
    "    # same weight\n",
    "    weight = torch.randn((*kernel_size, in_channels, out_channels),\n",
    "                         dtype=torch.float, device=indices.device)\n",
    "\n",
    "    sph_conv.weight = torch.nn.Parameter(weight.clone())\n",
    "    sp_conv.weight = torch.nn.Parameter(weight.clone())\n",
    "\n",
    "    with torch.no_grad():\n",
    "        spconv_dense = sp_conv(spconv_tensor).dense()\n",
    "        sphconv_dense = sph_conv(sphconv_tensor).dense()\n",
    "\n",
    "    print(\"sphconv = \", sphconv_dense)\n",
    "    print(\"spconv = \", spconv_dense)\n",
    "\n",
    "    assert torch.isclose(spconv_dense, sphconv_dense, rtol=0.01).all()\n",
    "\n",
    "\n",
    "class TestClass:\n",
    "    def test_conv3D_1(self):\n",
    "\n",
    "        indices = torch.tensor([\n",
    "            [0, 0, 0],\n",
    "            [0, 0, 1],\n",
    "            [0, 1, 0],\n",
    "            [1, 1, 1],\n",
    "        ], dtype=torch.int).cuda()\n",
    "\n",
    "        assert_correct_cmp_with_spconv(\n",
    "            indices, batch_size=1, in_channels=16, out_channels=32, spatial_shape_DWH=[2, 2, 2],\n",
    "            kernel_size=[2, 2, 2], stride=[1, 1, 1], padding=[1, 1, 1], subm=True)\n",
    "        assert_correct_cmp_with_spconv(\n",
    "            indices, batch_size=1, in_channels=16, out_channels=32, spatial_shape_DWH=[3, 3, 3],\n",
    "            kernel_size=[3, 3, 3], stride=[1, 1, 1], padding=[1, 1, 1], subm=True)\n",
    "        assert_correct_cmp_with_spconv(\n",
    "            indices, batch_size=3, in_channels=16, out_channels=32, spatial_shape_DWH=[2, 2, 8],\n",
    "            kernel_size=[2, 2, 2], stride=[1, 1, 1], padding=[1, 1, 1], subm=True)\n",
    "\n",
    "    def test_conv3D_2(self):\n",
    "\n",
    "        indices = torch.tensor([\n",
    "            [0, 0, 0],\n",
    "            [0, 0, 1],\n",
    "            [0, 1, 0],\n",
    "            [1, 1, 1],\n",
    "        ], dtype=torch.int).cuda()\n",
    "\n",
    "        assert_correct_cmp_with_spconv(\n",
    "            indices, batch_size=1, in_channels=16, out_channels=32, spatial_shape_DWH=[2, 2, 2],\n",
    "            kernel_size=[2, 2, 2], stride=[1, 1, 1], padding=[1, 1, 1], subm=False)\n",
    "        assert_correct_cmp_with_spconv(\n",
    "            indices, batch_size=1, in_channels=16, out_channels=32, spatial_shape_DWH=[3, 3, 3],\n",
    "            kernel_size=[3, 3, 3], stride=[1, 1, 1], padding=[1, 1, 1], subm=False)\n",
    "        assert_correct_cmp_with_spconv(\n",
    "            indices, batch_size=3, in_channels=16, out_channels=32, spatial_shape_DWH=[2, 2, 8],\n",
    "            kernel_size=[2, 2, 2], stride=[2, 1, 1], padding=[0, 1, 1], subm=False)\n",
    "        assert_correct_cmp_with_spconv(\n",
    "            indices, batch_size=3, in_channels=16, out_channels=32, spatial_shape_DWH=[4, 8, 8],\n",
    "            kernel_size=[3, 3, 3], stride=[1, 1, 2], padding=[1, 1, 0], subm=False)\n",
    "        assert_correct_cmp_with_spconv(\n",
    "            indices, batch_size=3, in_channels=16, out_channels=32, spatial_shape_DWH=[20, 20, 20],\n",
    "            kernel_size=[3, 3, 3], stride=[1, 1, 2], padding=[1, 1, 0], subm=False)\n",
    "\n",
    "\n",
    "    def test_conv3D_3(self):\n",
    "\n",
    "        # assert_correct_cmp_with_spconv_real(\n",
    "        #     batch_size=1, in_channels=16, out_channels=32, spatial_shape_DWH=[2, 2, 2],\n",
    "        #     kernel_size=[2, 2, 2], stride=[1, 1, 1], padding=[1, 1, 1], subm=False)\n",
    "        # assert_correct_cmp_with_spconv_real(\n",
    "        #     batch_size=1, in_channels=16, out_channels=32, spatial_shape_DWH=[3, 3, 3],\n",
    "        #     kernel_size=[3, 3, 3], stride=[1, 1, 1], padding=[1, 1, 1], subm=False)\n",
    "        assert_correct_cmp_with_spconv_real(\n",
    "            batch_size=3, in_channels=16, out_channels=32, spatial_shape_DWH=[2, 2, 8],\n",
    "            kernel_size=[2, 2, 2], stride=[2, 1, 1], padding=[0, 1, 1], subm=False)\n",
    "        assert_correct_cmp_with_spconv_real(\n",
    "            batch_size=3, in_channels=16, out_channels=32, spatial_shape_DWH=[4, 8, 8],\n",
    "            kernel_size=[3, 3, 3], stride=[1, 1, 2], padding=[1, 1, 0], subm=False)\n",
    "        # assert_correct_cmp_with_spconv_real(\n",
    "        #     batch_size=3, in_channels=16, out_channels=32, spatial_shape_DWH=[6, 6, 20],\n",
    "        #     kernel_size=[3, 3, 3], stride=[2, 2, 2], padding=[1, 1, 0], subm=False)\n",
    "        # assert_correct_cmp_with_spconv_real(\n",
    "        #     batch_size=3, in_channels=32, out_channels=64, spatial_shape_DWH=[6, 6, 7],\n",
    "        #     kernel_size=[3, 3, 3], stride=[2, 2, 2], padding=[1, 1, 0], subm=False)\n",
    "\n",
    "        # assert_correct_cmp_with_spconv_real(\n",
    "        #     batch_size=3, in_channels=32, out_channels=64, spatial_shape_DWH=[6, 6, 7],\n",
    "        #     kernel_size=[3, 3, 3], stride=[2, 2, 2], padding=[1, 1, 0], subm=False)\n",
    "\n",
    "    def test_conv3D_4(self):\n",
    "        assert_correct_cmp_with_spconv_real(\n",
    "            batch_size=3, in_channels=64, out_channels=64, spatial_shape_DWH=[12, 12, 12],\n",
    "            kernel_size=[3, 3, 3], stride=[2, 2, 2], padding=[1, 1, 0], subm=False)\n",
    "\n",
    "        assert_correct_cmp_with_spconv_real(\n",
    "            batch_size=3, in_channels=64, out_channels=64, spatial_shape_DWH=[12, 12, 12],\n",
    "            kernel_size=[3, 3, 3], stride=[2, 2, 2], padding=[1, 1, 0], subm=False)\n",
    "\n",
    "\n",
    "    def test_rule_cache(self):\n",
    "        assert True\n"
   ]
  },
  {
   "cell_type": "code",
   "execution_count": 11,
   "metadata": {},
   "outputs": [],
   "source": [
    "\n",
    "batch_size=3\n",
    "in_channels=64\n",
    "out_channels=64\n",
    "spatial_shape_DWH=[64, 512, 512]\n",
    "kernel_size=[3, 3, 3]\n",
    "stride=[1, 1, 1]\n",
    "dilation=[1,1,1]\n",
    "padding=[1, 1, 1]\n",
    "subm=True"
   ]
  },
  {
   "cell_type": "code",
   "execution_count": 12,
   "metadata": {},
   "outputs": [
    {
     "name": "stdout",
     "output_type": "stream",
     "text": [
      "voxelmap_shape =  (64, 512, 512)\n",
      "self._coord_system = spherical\n"
     ]
    }
   ],
   "source": [
    "from sphconv.sphconv_cuda import get_rules, get_rules_subm, rule_conv\n",
    "\n",
    "feature, indices = batch_real_test_inputs(\n",
    "        channel=in_channels, batch_size=batch_size, spatial_shape_DWH=spatial_shape_DWH)\n",
    "\n",
    "sphconv_tensor = sphconv.SparseConvTensor(\n",
    "        feature, spatial_shape_DWH, batch_size, indices=indices)\n",
    "\n",
    "conv1 = sphconv.Conv3d(\n",
    "        in_channels, out_channels, kernel_size, stride=stride, padding=padding, dilation=dilation, bias=False, subm=subm).cuda()\n",
    "\n",
    "conv2 = sphconv.Conv3d(\n",
    "        64, 64, [3,3,3], [2,2,2], [1,1,1], [1,1,1],subm=False)\n",
    "\n",
    "out_spatial_shape_DWH = out_spatial(\n",
    "                spatial_shape_DWH, kernel_size, stride, padding, dilation)\n",
    "\n",
    "oz_idx, oz_ptr, rules, rule_size, global_rules = get_rules_subm(\n",
    "            sphconv_tensor.z_idx, sphconv_tensor.z_ptr,\n",
    "            batch_size, spatial_shape_DWH, out_spatial_shape_DWH,\n",
    "            kernel_size,\n",
    "            stride,\n",
    "            padding,\n",
    "            dilation\n",
    "        )\n",
    "\n",
    "with torch.no_grad():\n",
    "    x = conv1(sphconv_tensor)\n",
    "#     x = conv2(x)\n",
    "  \n",
    "\n",
    "\n"
   ]
  },
  {
   "cell_type": "code",
   "execution_count": 13,
   "metadata": {},
   "outputs": [
    {
     "data": {
      "text/plain": [
       "torch.Size([512, 27])"
      ]
     },
     "execution_count": 13,
     "metadata": {},
     "output_type": "execute_result"
    }
   ],
   "source": [
    "rule_size.shape"
   ]
  },
  {
   "cell_type": "code",
   "execution_count": 14,
   "metadata": {},
   "outputs": [
    {
     "data": {
      "text/plain": [
       "[<matplotlib.lines.Line2D at 0x7f6f7292e290>]"
      ]
     },
     "execution_count": 14,
     "metadata": {},
     "output_type": "execute_result"
    },
    {
     "data": {
      "image/png": "[encoded data removed]",
      "text/plain": [
       "<Figure size 432x288 with 1 Axes>"
      ]
     },
     "metadata": {
      "needs_background": "light"
     },
     "output_type": "display_data"
    }
   ],
   "source": [
    "import matplotlib.pyplot as plt\n",
    "rule_size = rule_size.cpu().detach().numpy()\n",
    "plt.plot(rule_size[2])"
   ]
  },
  {
   "cell_type": "code",
   "execution_count": 15,
   "metadata": {},
   "outputs": [
    {
     "data": {
      "text/plain": [
       "[<matplotlib.lines.Line2D at 0x7f6f729c08d0>]"
      ]
     },
     "execution_count": 15,
     "metadata": {},
     "output_type": "execute_result"
    },
    {
     "data": {
      "image/png": "[encoded data removed]",
      "text/plain": [
       "<Figure size 432x288 with 1 Axes>"
      ]
     },
     "metadata": {
      "needs_background": "light"
     },
     "output_type": "display_data"
    }
   ],
   "source": [
    "plt.plot(rule_size.sum(axis=1))"
   ]
  },
  {
   "cell_type": "code",
   "execution_count": 16,
   "metadata": {},
   "outputs": [],
   "source": [
    "tile_rule_size = rule_size.sum(axis=1)"
   ]
  },
  {
   "cell_type": "code",
   "execution_count": 17,
   "metadata": {},
   "outputs": [
    {
     "data": {
      "text/plain": [
       "(array([0.00738422, 0.00014768, 0.00014768, 0.        , 0.00059074,\n",
       "        0.00059074, 0.00044305, 0.00044305, 0.        , 0.00059074,\n",
       "        0.00014768, 0.00029537, 0.00029537, 0.00088611, 0.00088611,\n",
       "        0.00310137, 0.00324905, 0.00413516, 0.00251063, 0.0019199 ,\n",
       "        0.00206758, 0.00251063, 0.00295369, 0.00369211, 0.002806  ,\n",
       "        0.0047259 , 0.00575969, 0.00428284, 0.00413516, 0.00398748,\n",
       "        0.00324905, 0.00251063, 0.00147684, 0.00132916, 0.00118147,\n",
       "        0.00059074, 0.00014768, 0.00014768, 0.00014768, 0.00014768]),\n",
       " array([  0.   ,  13.225,  26.45 ,  39.675,  52.9  ,  66.125,  79.35 ,\n",
       "         92.575, 105.8  , 119.025, 132.25 , 145.475, 158.7  , 171.925,\n",
       "        185.15 , 198.375, 211.6  , 224.825, 238.05 , 251.275, 264.5  ,\n",
       "        277.725, 290.95 , 304.175, 317.4  , 330.625, 343.85 , 357.075,\n",
       "        370.3  , 383.525, 396.75 , 409.975, 423.2  , 436.425, 449.65 ,\n",
       "        462.875, 476.1  , 489.325, 502.55 , 515.775, 529.   ]),\n",
       " <BarContainer object of 40 artists>)"
      ]
     },
     "execution_count": 17,
     "metadata": {},
     "output_type": "execute_result"
    },
    {
     "data": {
      "image/png": "[encoded data removed]",
      "text/plain": [
       "<Figure size 432x288 with 1 Axes>"
      ]
     },
     "metadata": {
      "needs_background": "light"
     },
     "output_type": "display_data"
    }
   ],
   "source": [
    "plt.hist(tile_rule_size,40,density=True)"
   ]
  },
  {
   "cell_type": "code",
   "execution_count": 24,
   "metadata": {},
   "outputs": [
    {
     "data": {
      "text/plain": [
       "[<matplotlib.lines.Line2D at 0x7f6f7289c490>]"
      ]
     },
     "execution_count": 24,
     "metadata": {},
     "output_type": "execute_result"
    },
    {
     "data": {
      "image/png": "[encoded data removed]",
      "text/plain": [
       "<Figure size 432x288 with 1 Axes>"
      ]
     },
     "metadata": {
      "needs_background": "light"
     },
     "output_type": "display_data"
    }
   ],
   "source": [
    "plt.plot(rule_size[100])\n"
   ]
  },
  {
   "cell_type": "code",
   "execution_count": null,
   "metadata": {},
   "outputs": [],
   "source": []
  },
  {
   "cell_type": "code",
   "execution_count": null,
   "metadata": {},
   "outputs": [],
   "source": []
  }
 ],
 "metadata": {
  "kernelspec": {
   "display_name": "Python 3.7.7 64-bit ('sphconv': conda)",
   "language": "python",
   "name": "python37764bitsphconvconda6f56c650dde3466280cb82ecbfed5d7d"
  },
  "language_info": {
   "codemirror_mode": {
    "name": "ipython",
    "version": 3
   },
   "file_extension": ".py",
   "mimetype": "text/x-python",
   "name": "python",
   "nbconvert_exporter": "python",
   "pygments_lexer": "ipython3",
   "version": "3.7.7"
  }
 },
 "nbformat": 4,
 "nbformat_minor": 4
}
